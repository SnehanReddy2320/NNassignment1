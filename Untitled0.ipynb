{
  "nbformat": 4,
  "nbformat_minor": 0,
  "metadata": {
    "colab": {
      "provenance": [],
      "authorship_tag": "ABX9TyOl8AYzuk4JTqhh1ofchhMI",
      "include_colab_link": true
    },
    "kernelspec": {
      "name": "python3",
      "display_name": "Python 3"
    },
    "language_info": {
      "name": "python"
    }
  },
  "cells": [
    {
      "cell_type": "markdown",
      "metadata": {
        "id": "view-in-github",
        "colab_type": "text"
      },
      "source": [
        "<a href=\"https://colab.research.google.com/github/SnehanReddy2320/NNassignment1/blob/main/Untitled0.ipynb\" target=\"_parent\"><img src=\"https://colab.research.google.com/assets/colab-badge.svg\" alt=\"Open In Colab\"/></a>"
      ]
    },
    {
      "cell_type": "code",
      "source": [],
      "metadata": {
        "id": "TWhrlPdu9Zoe"
      },
      "execution_count": null,
      "outputs": []
    },
    {
      "cell_type": "code",
      "execution_count": 20,
      "metadata": {
        "colab": {
          "base_uri": "https://localhost:8080/"
        },
        "id": "s0unmE0O5lMd",
        "outputId": "e1e38cc2-ef3f-4f82-d261-4b5583677326"
      },
      "outputs": [
        {
          "output_type": "stream",
          "name": "stdout",
          "text": [
            "noyp\n"
          ]
        }
      ],
      "source": [
        "x = list(\"python\")\n",
        "del x[2:4]\n",
        "x.reverse ()\n",
        "output_string = ''.join(x)\n",
        "print (output_string)"
      ]
    },
    {
      "cell_type": "code",
      "source": [
        "a = int(input(\"enter number 1 \"))\n",
        "b = int(input(\"enter number 2 \"))\n",
        "print(a+b,'',a-b,'',a*b,'',a/b)"
      ],
      "metadata": {
        "colab": {
          "base_uri": "https://localhost:8080/"
        },
        "id": "vLlbP2Df9agk",
        "outputId": "d6297097-44bb-46cb-f93c-e912d04a2c20"
      },
      "execution_count": 21,
      "outputs": [
        {
          "output_type": "stream",
          "name": "stdout",
          "text": [
            "enter number 1 10\n",
            "enter number 2 5\n",
            "15  5  50  2.0\n"
          ]
        }
      ]
    },
    {
      "cell_type": "code",
      "source": [
        "x= \"i love playing with python\"\n",
        "y = x.replace('python','pythons')\n",
        "print(y)\n"
      ],
      "metadata": {
        "colab": {
          "base_uri": "https://localhost:8080/"
        },
        "id": "gQEvywWg6iv-",
        "outputId": "2ca5a9eb-d5ce-4829-c168-35ece4960c32"
      },
      "execution_count": 22,
      "outputs": [
        {
          "output_type": "stream",
          "name": "stdout",
          "text": [
            "i love playing with pythons\n"
          ]
        }
      ]
    },
    {
      "cell_type": "code",
      "source": [
        "score = float(input(\"input score  \"))\n",
        "if score >= 90:\n",
        "    grade = 'A'\n",
        "elif score >= 80:\n",
        "    grade = 'B'\n",
        "elif score >= 70:\n",
        "    grade = 'c'\n",
        "elif score <70:\n",
        "    grade = 'f'\n",
        "print (grade)\n",
        "\n",
        "\n"
      ],
      "metadata": {
        "colab": {
          "base_uri": "https://localhost:8080/"
        },
        "id": "7cf-6VLp7M3a",
        "outputId": "ba10edfa-3a6e-4857-ce54-084f3af4596c"
      },
      "execution_count": 24,
      "outputs": [
        {
          "output_type": "stream",
          "name": "stdout",
          "text": [
            "input score  98\n",
            "A\n"
          ]
        }
      ]
    }
  ]
}